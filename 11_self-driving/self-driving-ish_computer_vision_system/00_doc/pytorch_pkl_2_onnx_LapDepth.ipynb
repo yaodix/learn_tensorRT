{
  "cells": [
    {
      "cell_type": "markdown",
      "metadata": {
        "colab_type": "text",
        "id": "view-in-github"
      },
      "source": [
        "<a href=\"https://colab.research.google.com/github/iwatake2222/play_with_tensorrt/blob/master/pj_tensorrt_depth_lapdepth/00_doc/pytorch_pkl_2_onnx_LapDepth.ipynb\" target=\"_parent\"><img src=\"https://colab.research.google.com/assets/colab-badge.svg\" alt=\"Open In Colab\"/></a>"
      ]
    },
    {
      "cell_type": "code",
      "execution_count": null,
      "metadata": {
        "id": "etARG33fSObg"
      },
      "outputs": [],
      "source": [
        "!git clone https://github.com/tjqansthd/LapDepth-release.git --depth 1\n",
        "%cd LapDepth-release/\n",
        "!mkdir pretrained\n",
        "!cp ../drive/MyDrive/temp/LDRN_KITTI_ResNext101_pretrained_data.pkl ./pretrained/."
      ]
    },
    {
      "cell_type": "code",
      "execution_count": null,
      "metadata": {
        "id": "XrXs7sCfS_PT"
      },
      "outputs": [],
      "source": [
        "!pip install geffnet\n",
        "!pip install torchinfo\n",
        "!pip install onnx-simplifier\n",
        "!pip install onnx\n",
        "!pip install onnxruntime"
      ]
    },
    {
      "cell_type": "code",
      "execution_count": null,
      "metadata": {
        "id": "kb4VGmP2SBbj"
      },
      "outputs": [],
      "source": [
        "!python demo.py --model_dir ./pretrained/LDRN_KITTI_ResNext101_pretrained_data.pkl --img_dir ./example/kitti_demo.jpg --pretrained KITTI"
      ]
    },
    {
      "cell_type": "code",
      "execution_count": 10,
      "metadata": {
        "id": "Vpu3TGkcgvhE"
      },
      "outputs": [],
      "source": [
        "WIDTH = 512\n",
        "HEIGHT = 256\n",
        "ONNX_FILENAME = \"LDRN_KITTI_ResNext101_\" + str(HEIGHT) + \"_\" + str(WIDTH) + \".onnx\"\n",
        "ONNX_SIMPLE_FILENAME = \"LDRN_KITTI_ResNext101_\" + str(HEIGHT) + \"_\" + str(WIDTH) + \"_sim.onnx\""
      ]
    },
    {
      "cell_type": "code",
      "execution_count": null,
      "metadata": {
        "id": "7aLZZFCDVhOm"
      },
      "outputs": [],
      "source": [
        "import argparse\n",
        "from torchinfo import summary\n",
        "import torch\n",
        "import torch.onnx\n",
        "from model import LDRN\n",
        "\n",
        "class args():\n",
        "    def __init__(self):\n",
        "        self.model_dir = './pretrained/LDRN_KITTI_ResNext101_pretrained_data.pkl'\n",
        "        self.encoder = 'ResNext101'\n",
        "        self.pretrained = 'KITTI'\n",
        "        self.norm = 'BN'\n",
        "        self.n_Group = 32\n",
        "        self.reduction = 16\n",
        "        self.act = 'ReLU'\n",
        "        self.max_depth = 80.0\n",
        "        self.lv6 = 'store_true'\n",
        "        self.rank = 0\n",
        "args = args()\n",
        "\n",
        "model = LDRN(args)\n",
        "model = model.cpu()\n",
        "# model = model.cuda()\n",
        "# model = torch.nn.DataParallel(model)\n",
        "# model.load_state_dict(torch.load(args.model_dir))\n",
        "# https://qiita.com/tand826/items/fd11f84e1b015b88642e\n",
        "from collections import OrderedDict\n",
        "def fix_key(state_dict):\n",
        "    new_state_dict = OrderedDict()\n",
        "    for k, v in state_dict.items():\n",
        "        if k.startswith('module.'):\n",
        "            k = k[7:]\n",
        "        new_state_dict[k] = v\n",
        "    return new_state_dict\n",
        "model.load_state_dict(fix_key(torch.load(args.model_dir)))\n",
        "\n",
        "model.eval()\n",
        "\n",
        "summary(model, input_size=(1, 3, HEIGHT, WIDTH))"
      ]
    },
    {
      "cell_type": "code",
      "execution_count": null,
      "metadata": {
        "id": "bc3fqkRpXpw8"
      },
      "outputs": [],
      "source": [
        "dummy_input = torch.randn(1, 3, HEIGHT, WIDTH, requires_grad=True)\n",
        "dummy_input = dummy_input.cuda()\n",
        "torch.onnx.export(model, dummy_input, ONNX_FILENAME, opset_version=11)"
      ]
    },
    {
      "cell_type": "code",
      "execution_count": null,
      "metadata": {
        "id": "0FMBxnc9bfFl"
      },
      "outputs": [],
      "source": [
        "# !python -m onnxsim {ONNX_FILENAME} {ONNX_SIMPLE_FILENAME}\n",
        "!python -m onnxsim --skip-fuse-bn {ONNX_FILENAME} {ONNX_SIMPLE_FILENAME}"
      ]
    },
    {
      "cell_type": "code",
      "execution_count": null,
      "metadata": {
        "id": "E2nCoAHUYxje"
      },
      "outputs": [],
      "source": [
        "!cp {ONNX_SIMPLE_FILENAME} ../drive/MyDrive/temp/."
      ]
    },
    {
      "cell_type": "markdown",
      "metadata": {
        "id": "S9Bc7a4tcisd"
      },
      "source": [
        "# Inference"
      ]
    },
    {
      "cell_type": "code",
      "execution_count": null,
      "metadata": {
        "id": "aW09PFR3b2T0"
      },
      "outputs": [],
      "source": [
        "import numpy as np\n",
        "import cv2\n",
        "from google.colab.patches import cv2_imshow\n",
        "\n",
        "img_original = cv2.imread(\"./example/kitti_demo.jpg\")\n",
        "cv2_imshow(img_original)"
      ]
    },
    {
      "cell_type": "code",
      "execution_count": 13,
      "metadata": {
        "id": "lecGxKO8cPRQ"
      },
      "outputs": [],
      "source": [
        "def preprocess(img_original):\n",
        "  shape = (WIDTH, HEIGHT) \n",
        "  mean = np.array([0.485, 0.456, 0.406])\n",
        "  std = np.array([0.229, 0.224, 0.225])\n",
        "  img = img_original.copy()\n",
        "  img = cv2.resize(img, shape)\n",
        "  img = cv2.cvtColor(img, cv2.COLOR_BGR2RGB)\n",
        "  img = img / 255.\n",
        "  img = (img - mean) / std\n",
        "  img = img.astype(np.float32)\n",
        "  # tensor = cv2.dnn.blobFromImage(img)\n",
        "  tensor = img.transpose(2, 0, 1).reshape(1, 3, HEIGHT, WIDTH)\n",
        "  return tensor"
      ]
    },
    {
      "cell_type": "code",
      "execution_count": 14,
      "metadata": {
        "colab": {
          "base_uri": "https://localhost:8080/",
          "height": 189
        },
        "id": "jmAUv1lgce0n",
        "outputId": "06a7a868-9c15-46a6-a138-b9b3b1d26177"
      },
      "outputs": [
        {
          "data": {
            "image/png": "[encoded data removed]",
            "text/plain": [
              "<Figure size 432x288 with 1 Axes>"
            ]
          },
          "metadata": {
            "needs_background": "light"
          },
          "output_type": "display_data"
        }
      ],
      "source": [
        "import onnx\n",
        "import onnxruntime\n",
        "import numpy as np\n",
        "import matplotlib.pyplot as plt\n",
        "%matplotlib inline\n",
        "\n",
        "''' Load model '''\n",
        "sess = onnxruntime.InferenceSession(ONNX_SIMPLE_FILENAME)\n",
        "\n",
        "''' Run inference '''\n",
        "input = preprocess(img_original)\n",
        "input_name = sess.get_inputs()[0].name\n",
        "output = sess.run(None, {input_name: input})\n",
        "\n",
        "''' Show result '''\n",
        "out = np.array(output[5])\n",
        "out = np.squeeze(out, 0)\n",
        "out = np.squeeze(out, 0)\n",
        "out = out[int(out.shape[0] * 0.18) : , : ]\n",
        "out = out * 256.0\n",
        "plt.imshow(out)\n",
        "plt.show()"
      ]
    },
    {
      "cell_type": "code",
      "execution_count": 15,
      "metadata": {
        "colab": {
          "base_uri": "https://localhost:8080/"
        },
        "id": "xd417WkvthUJ",
        "outputId": "f284b148-fd30-41ca-d127-3508ff65bc2d"
      },
      "outputs": [
        {
          "data": {
            "text/plain": [
              "(71.44486, 8.248258)"
            ]
          },
          "execution_count": 15,
          "metadata": {},
          "output_type": "execute_result"
        }
      ],
      "source": [
        "out = out / 256.0\n",
        "np.amax(out), np.amin(out)"
      ]
    }
  ],
  "metadata": {
    "accelerator": "GPU",
    "colab": {
      "authorship_tag": "ABX9TyPaIwXQjG9C11V7dYhBuATz",
      "collapsed_sections": [],
      "include_colab_link": true,
      "mount_file_id": "1-enJKzyw6vmvaEcVFFCW6QGeV2BcDKeP",
      "name": "pytorch_pkl_2_onnx_LapDepth.ipynb",
      "provenance": []
    },
    "kernelspec": {
      "display_name": "Python 3",
      "name": "python3"
    },
    "language_info": {
      "name": "python"
    }
  },
  "nbformat": 4,
  "nbformat_minor": 0
}
